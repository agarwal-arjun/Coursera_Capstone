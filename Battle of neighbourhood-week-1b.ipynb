{
 "cells": [
  {
   "cell_type": "markdown",
   "metadata": {},
   "source": [
    "# Data\n",
    "As part of solving the problem, the Hyderabad city will be divided in squares with  city center as central point. From city center point,  Hyderabad sprawls to 15 KM each side. hence we will deivide it in 30x30 square with each block size of 1x1 sqare-km. I will use geopy library to find **coordinate of center of Hyderabad** (center Hyderabad address will be Lumbini Park). Based on the centeral coordinate, I will divide the city in blocks using algorithm. and will determine lattitude and longitude of each block. I will use **geopy library to find neibourhood name for each block**. Once neigbhourhood information is avaialble, I will use **foursquare venue API** to get the popular venues in vicinity.\n",
    "\n",
    "Once I have all data in place (i.e. Neighbourhood name, Lattitude, Longitude, Venue Name, Venue Category etc), I will explore the data, apply ML model, evaluate the Model and will finally present result and conclusions."
   ]
  },
  {
   "cell_type": "code",
   "execution_count": null,
   "metadata": {},
   "outputs": [],
   "source": []
  }
 ],
 "metadata": {
  "kernelspec": {
   "display_name": "Python 3",
   "language": "python",
   "name": "python3"
  },
  "language_info": {
   "codemirror_mode": {
    "name": "ipython",
    "version": 3
   },
   "file_extension": ".py",
   "mimetype": "text/x-python",
   "name": "python",
   "nbconvert_exporter": "python",
   "pygments_lexer": "ipython3",
   "version": "3.6.8"
  }
 },
 "nbformat": 4,
 "nbformat_minor": 4
}
