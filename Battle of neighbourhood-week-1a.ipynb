{
 "cells": [
  {
   "cell_type": "markdown",
   "metadata": {},
   "source": [
    "# Introduction / Bussiness Problem\n",
    "Location is most important aspect for success of a restaurant. A not well placed location can lead to footfall and less revenue, and eventual closing down of restaurant whish will result into investor loss. Hence it s highly valuable for investor to have data driven approach while choosing a location. \n",
    "\n",
    "The problem statment here is to identify location characteristics across Hyderabad that can be used to judge suitability of location for opening a Restaurant.\n"
   ]
  },
  {
   "cell_type": "code",
   "execution_count": null,
   "metadata": {},
   "outputs": [],
   "source": []
  }
 ],
 "metadata": {
  "kernelspec": {
   "display_name": "Python 3",
   "language": "python",
   "name": "python3"
  },
  "language_info": {
   "codemirror_mode": {
    "name": "ipython",
    "version": 3
   },
   "file_extension": ".py",
   "mimetype": "text/x-python",
   "name": "python",
   "nbconvert_exporter": "python",
   "pygments_lexer": "ipython3",
   "version": "3.6.8"
  }
 },
 "nbformat": 4,
 "nbformat_minor": 4
}
